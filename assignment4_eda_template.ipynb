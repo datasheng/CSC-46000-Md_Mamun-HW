{
 "cells": [
  {
   "cell_type": "markdown",
   "id": "d25776b7",
   "metadata": {},
   "source": [
    "\n",
    "# Assignment 4 — Exploratory Data Analysis (EDA)\n",
    "\n",
    "**Created:** 2025-10-14 19:01\n",
    "\n",
    "This notebook is a starter template for your EDA assignment. It guides you through:\n",
    "1. Loading a dataset (≥ 30 rows, ≥ 8 columns, ≥ 5 numerical columns)\n",
    "2. Univariate analysis (histograms/bar charts + summary stats + outliers)\n",
    "3. Boxplots for all numerical variables side-by-side\n",
    "4. Pairwise relationships (scatter matrix for numerical variables)\n",
    "5. Categorical vs categorical (crosstab / heatmap-like table)\n",
    "6. Categorical vs numerical (color/grouping)\n",
    "7. Aggregations (one variable vs another)\n",
    "8. Exporting a cleaned CSV for Tableau\n",
    "\n",
    "> **Tip:** Keep your repo organized. Suggested layout:\n",
    ">\n",
    "> ```text\n",
    "> assignment4_eda/\n",
    "> ├── data/\n",
    "> │   └── StudentsPerformance.csv\n",
    "> ├── notebook.ipynb\n",
    "> └── README.md\n",
    "> ```\n"
   ]
  },
  {
   "cell_type": "code",
   "execution_count": null,
   "id": "480867df",
   "metadata": {},
   "outputs": [],
   "source": [
    "\n",
    "# --- Setup ---\n",
    "import pandas as pd\n",
    "import numpy as np\n",
    "import matplotlib.pyplot as plt\n",
    "from pandas.plotting import scatter_matrix\n",
    "\n",
    "# Use a clean plotting style\n",
    "plt.style.use(\"ggplot\")\n",
    "\n",
    "# Make plots a bit bigger by default\n",
    "plt.rcParams[\"figure.figsize\"] = (8, 5)\n",
    "plt.rcParams[\"axes.grid\"] = True\n"
   ]
  },
  {
   "cell_type": "markdown",
   "id": "6926cb1b",
   "metadata": {},
   "source": [
    "\n",
    "## 1) Load your dataset\n",
    "- Put your CSV into the `data/` folder.\n",
    "- Update the `data_path` variable below.\n"
   ]
  },
  {
   "cell_type": "code",
   "execution_count": null,
   "id": "e67e679e",
   "metadata": {},
   "outputs": [],
   "source": [
    "\n",
    "# --- Load Data ---\n",
    "data_path = \"StudentsPerformance.csv\"  
    "df = pd.read_csv(data_path)\n",
    "\n",
    "# If you have a date column, you can parse it like this:\n",
    "# df = pd.read_csv(data_path, parse_dates=[\"your_date_col\"])\n",
    "\n",
    "print(\"Shape:\", df.shape)\n",
    "display(df.head())\n",
    "display(df.tail())\n"
   ]
  },
  {
   "cell_type": "markdown",
   "id": "95a0e8a2",
   "metadata": {},
   "source": [
    "\n",
    "## 2) Basic information\n",
    "- Data types, missing values, and quick statistics.\n"
   ]
  },
  {
   "cell_type": "code",
   "execution_count": null,
   "id": "89d00232",
   "metadata": {},
   "outputs": [],
   "source": [
    "\n",
    "# Data types and basic info\n",
    "display(df.dtypes)\n",
    "display(df.describe(include=\"all\").transpose())\n",
    "\n",
    "# Missing values by column\n",
    "na_counts = df.isna().sum().sort_values(ascending=False)\n",
    "display(na_counts)\n"
   ]
  },
  {
   "cell_type": "markdown",
   "id": "38e3eb5a",
   "metadata": {},
   "source": [
    "\n",
    "## 3) Column type selection\n",
    "- Automatically detect numerical vs categorical columns.\n",
    "- Ensure you have **≥ 5 numerical** columns (per assignment). If not, choose a different dataset.\n"
   ]
  },
  {
   "cell_type": "code",
   "execution_count": null,
   "id": "990fd348",
   "metadata": {},
   "outputs": [],
   "source": [
    "\n",
    "num_cols = df.select_dtypes(include=[np.number]).columns.tolist()\n",
    "cat_cols = df.select_dtypes(exclude=[np.number]).columns.tolist()\n",
    "\n",
    "print(\"Numeric columns:\", num_cols)\n",
    "print(\"Categorical columns:\", cat_cols)\n"
   ]
  },
  {
   "cell_type": "markdown",
   "id": "61409e1b",
   "metadata": {},
   "source": [
    "\n",
    "## 4) Univariate analysis (1-D)\n",
    "- **Numerical**: histogram + summary statistics (max, min, mean, median).\n",
    "- **Categorical**: bar chart.\n",
    "- Comment on outliers if visible.\n"
   ]
  },
  {
   "cell_type": "code",
   "execution_count": null,
   "id": "75e5d280",
   "metadata": {},
   "outputs": [],
   "source": [
    "\n",
    "# Numerical columns: histograms + stats\n",
    "for col in num_cols:\n",
    "    fig, ax = plt.subplots()\n",
    "    ax.hist(df[col].dropna(), bins=15, edgecolor=\"black\")\n",
    "    ax.set_title(f\"Histogram — {col}\")\n",
    "    ax.set_xlabel(col)\n",
    "    ax.set_ylabel(\"Frequency\")\n",
    "    plt.show()\n",
    "    \n",
    "    # Summary stats\n",
    "    ser = df[col].dropna()\n",
    "    summary = {\n",
    "        \"min\": ser.min(),\n",
    "        \"max\": ser.max(),\n",
    "        \"mean\": ser.mean(),\n",
    "        \"median\": ser.median(),\n",
    "        \"std\": ser.std(),\n",
    "        \"q1\": ser.quantile(0.25),\n",
    "        \"q3\": ser.quantile(0.75),\n",
    "    }\n",
    "    print(f\"Summary for {col}:\", summary)\n",
    "    # Simple outlier check using IQR rule\n",
    "    iqr = summary[\"q3\"] - summary[\"q1\"]\n",
    "    lower = summary[\"q1\"] - 1.5 * iqr\n",
    "    upper = summary[\"q3\"] + 1.5 * iqr\n",
    "    outlier_count = ((ser < lower) | (ser > upper)).sum()\n",
    "    print(f\"Approx. outliers (IQR rule): {outlier_count}\\n\")\n"
   ]
  },
  {
   "cell_type": "code",
   "execution_count": null,
   "id": "66ba27d1",
   "metadata": {},
   "outputs": [],
   "source": [
    "\n",
    "# Categorical columns: bar charts\n",
    "for col in cat_cols:\n",
    "    counts = df[col].value_counts(dropna=False)\n",
    "    fig, ax = plt.subplots()\n",
    "    counts.plot(kind=\"bar\", ax=ax, edgecolor=\"black\")\n",
    "    ax.set_title(f\"Bar Chart — {col}\")\n",
    "    ax.set_xlabel(col)\n",
    "    ax.set_ylabel(\"Count\")\n",
    "    plt.show()\n"
   ]
  },
  {
   "cell_type": "markdown",
   "id": "cedb214d",
   "metadata": {},
   "source": [
    "\n",
    "## 5) Boxplots of all numerical variables (side by side)\n"
   ]
  },
  {
   "cell_type": "code",
   "execution_count": null,
   "id": "72f1cf3f",
   "metadata": {},
   "outputs": [],
   "source": [
    "\n",
    "if len(num_cols) > 0:\n",
    "    fig, ax = plt.subplots(figsize=(max(8, len(num_cols)*0.8), 6))\n",
    "    ax.boxplot([df[c].dropna() for c in num_cols], labels=num_cols, vert=True)\n",
    "    ax.set_title(\"Boxplots — Numerical Variables\")\n",
    "    ax.set_ylabel(\"Value\")\n",
    "    plt.xticks(rotation=45, ha=\"right\")\n",
    "    plt.tight_layout()\n",
    "    plt.show()\n",
    "else:\n",
    "    print(\"No numerical columns to plot.\")\n"
   ]
  },
  {
   "cell_type": "markdown",
   "id": "0bcd5674",
   "metadata": {},
   "source": [
    "\n",
    "## 6) Pairwise relationships (numerical only)\n",
    "- Use a scatter matrix for the numerical variables.\n"
   ]
  },
  {
   "cell_type": "code",
   "execution_count": null,
   "id": "196ee67a",
   "metadata": {},
   "outputs": [],
   "source": [
    "\n",
    "if len(num_cols) >= 2:\n",
    "    scatter_matrix(df[num_cols].dropna(), figsize=(min(12, 3*len(num_cols)), min(12, 3*len(num_cols))))\n",
    "    plt.suptitle(\"Scatter Matrix — Numerical Variables\", y=1.02)\n",
    "    plt.show()\n",
    "else:\n",
    "    print(\"Need at least 2 numerical columns for a scatter matrix.\")\n"
   ]
  },
  {
   "cell_type": "markdown",
   "id": "7cd58545",
   "metadata": {},
   "source": [
    "\n",
    "## 7) Categorical vs Categorical\n",
    "- Show as a crosstab (can be visualized as stacked/grouped bars).\n"
   ]
  },
  {
   "cell_type": "code",
   "execution_count": null,
   "id": "539e6590",
   "metadata": {},
   "outputs": [],
   "source": [
    "\n",
    "# Choose two categorical columns to compare:\n",
    "cat_a = cat_cols[0] if len(cat_cols) >= 1 else None\n",
    "cat_b = cat_cols[1] if len(cat_cols) >= 2 else None\n",
    "\n",
    "if cat_a and cat_b:\n",
    "    ct = pd.crosstab(df[cat_a], df[cat_b], dropna=False)\n",
    "    display(ct)\n",
    "    \n",
    "    # Optional: Stacked bar visualization using matplotlib\n",
    "    ax = ct.plot(kind=\"bar\", stacked=True, edgecolor=\"black\")\n",
    "    ax.set_title(f\"Crosstab: {cat_a} vs {cat_b}\")\n",
    "    ax.set_xlabel(cat_a)\n",
    "    ax.set_ylabel(\"Count\")\n",
    "    plt.xticks(rotation=45, ha=\"right\")\n",
    "    plt.tight_layout()\n",
    "    plt.show()\n",
    "else:\n",
    "    print(\"Need at least two categorical columns for crosstab.\")\n"
   ]
  },
  {
   "cell_type": "markdown",
   "id": "b713430f",
   "metadata": {},
   "source": [
    "\n",
    "## 8) Categorical vs Numerical\n",
    "- Compare distributions of numerical columns across categories (boxplots grouped by category).\n"
   ]
  },
  {
   "cell_type": "code",
   "execution_count": null,
   "id": "b489a22b",
   "metadata": {},
   "outputs": [],
   "source": [
    "\n",
    "# Choose one categorical and one numerical column to compare:\n",
    "cat_col = cat_cols[0] if len(cat_cols) >= 1 else None\n",
    "num_col = num_cols[0] if len(num_cols) >= 1 else None\n",
    "\n",
    "if cat_col and num_col:\n",
    "    # Create grouped boxplots: one box per category\n",
    "    groups = [grp[num_col].dropna() for name, grp in df.groupby(cat_col)]\n",
    "    labels = [str(name) for name, grp in df.groupby(cat_col)]\n",
    "    fig, ax = plt.subplots(figsize=(max(8, len(labels)), 6))\n",
    "    ax.boxplot(groups, labels=labels)\n",
    "    ax.set_title(f\"{num_col} by {cat_col}\")\n",
    "    ax.set_xlabel(cat_col)\n",
    "    ax.set_ylabel(num_col)\n",
    "    plt.xticks(rotation=45, ha=\"right\")\n",
    "    plt.tight_layout()\n",
    "    plt.show()\n",
    "else:\n",
    "    print(\"Need at least one categorical and one numerical column for grouped boxplots.\")\n"
   ]
  },
  {
   "cell_type": "markdown",
   "id": "ef0c88ca",
   "metadata": {},
   "source": [
    "\n",
    "## 9) Aggregations — One variable vs another\n",
    "- Compute grouped statistics and visualize.\n"
   ]
  },
  {
   "cell_type": "code",
   "execution_count": null,
   "id": "12216026",
   "metadata": {},
   "outputs": [],
   "source": [
    "\n",
    "if cat_col and num_col:\n",
    "    agg = df.groupby(cat_col)[num_col].agg([\"count\", \"mean\", \"median\", \"min\", \"max\", \"std\"]).sort_values(\"mean\", ascending=False)\n",
    "    display(agg)\n",
    "    \n",
    "    # Simple bar of group means\n",
    "    fig, ax = plt.subplots()\n",
    "    agg[\"mean\"].plot(kind=\"bar\", ax=ax, edgecolor=\"black\")\n",
    "    ax.set_title(f\"Mean of {num_col} by {cat_col}\")\n",
    "    ax.set_xlabel(cat_col)\n",
    "    ax.set_ylabel(f\"Mean {num_col}\")\n",
    "    plt.xticks(rotation=45, ha=\"right\")\n",
    "    plt.tight_layout()\n",
    "    plt.show()\n",
    "else:\n",
    "    print(\"Set 'cat_col' and 'num_col' above to run this section.\")\n"
   ]
  },
  {
   "cell_type": "markdown",
   "id": "6120e24e",
   "metadata": {},
   "source": [
    "\n",
    "## 10) Export for Tableau\n",
    "- Save a cleaned version of the data as CSV for Tableau.\n"
   ]
  },
  {
   "cell_type": "code",
   "execution_count": null,
   "id": "21613a64",
   "metadata": {},
   "outputs": [],
   "source": [
    "\n",
    "# Example simple cleaning step: drop completely empty columns\n",
    "df_clean = df.dropna(axis=1, how=\"all\")\n",
    "df_clean_path = \"data/cleaned_for_tableau.csv\"\n",
    "df_clean.to_csv(df_clean_path, index=False)\n",
    "print(\"Saved cleaned data to:\", df_clean_path)\n"
   ]
  },
  {
   "cell_type": "markdown",
   "id": "e9251c53",
   "metadata": {},
   "source": [
    "\n",
    "## 11) Conclusions (write-up)\n",
    "- Summarize key findings.\n",
    "- Note any unusual distributions, skew, or outliers.\n",
    "- Describe any relationships or lack thereof.\n",
    "- Mention next steps or questions that arose from EDA.\n"
   ]
  }
 ],
 "metadata": {},
 "nbformat": 4,
 "nbformat_minor": 5
}
